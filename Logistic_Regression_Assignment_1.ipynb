{
 "cells": [
  {
   "cell_type": "markdown",
   "id": "d92256bd-1615-4758-b953-00b036020f4d",
   "metadata": {},
   "source": [
    "Q1. Explain the difference between linear regression and logistic regression models. Provide an example of\n",
    "a scenario where logistic regression would be more appropriate.\n",
    "\n",
    "Answer: Linear regression is used for predicting continuous numerical values, while logistic regression is used for predicting binary categorical outcomes. Example: Predicting whether a customer will churn or not."
   ]
  },
  {
   "cell_type": "markdown",
   "id": "2b18baae-ca55-4291-af4e-9529e1380458",
   "metadata": {},
   "source": [
    "Q2. What is the cost function used in logistic regression, and how is it optimized?\n",
    "\n",
    "Answer: The cost function used in logistic regression is called the \"logistic loss\" or \"cross-entropy loss.\" It is optimized using iterative optimization algorithms like gradient descent to minimize the loss and find the optimal model parameters."
   ]
  },
  {
   "cell_type": "markdown",
   "id": "2a6d6348-2625-481a-abd4-f6b9caff154a",
   "metadata": {},
   "source": [
    "Q3. Explain the concept of regularization in logistic regression and how it helps prevent overfitting.\n",
    "\n",
    "Answer: Regularization in logistic regression is a technique that adds a penalty term to the cost function, discouraging large coefficients. This helps prevent overfitting by reducing model complexity and improving generalization to unseen data."
   ]
  },
  {
   "cell_type": "markdown",
   "id": "c174e825-ac32-41be-b68f-d1a2db082f3a",
   "metadata": {},
   "source": [
    "Q4. What is the ROC curve, and how is it used to evaluate the performance of the logistic regression\n",
    "model\n",
    "\n",
    "Answer: The ROC (Receiver Operating Characteristic) curve is a graphical plot that shows the performance of a logistic regression model by plotting the true positive rate against the false positive rate at various classification thresholds."
   ]
  },
  {
   "cell_type": "markdown",
   "id": "e9bcb2ae-c7d3-49f2-8a17-d90ecc2ad5b5",
   "metadata": {},
   "source": [
    "Q5. What are some common techniques for feature selection in logistic regression? How do these\n",
    "techniques help improve the model's performance?\n",
    "\n",
    "Answer: Common techniques for feature selection in logistic regression include forward selection, backward elimination, and L1 regularization (lasso). These techniques help improve performance by selecting relevant features and reducing model complexity."
   ]
  },
  {
   "cell_type": "markdown",
   "id": "2b670657-f8b6-413c-9c0a-3aeb5807e19e",
   "metadata": {},
   "source": [
    "Q6. How can you handle imbalanced datasets in logistic regression? What are some strategies for dealing\n",
    "with class imbalance?\n",
    "\n",
    "Answer: Strategies for handling imbalanced datasets in logistic regression include oversampling the minority class, undersampling the majority class, using class weights, and employing advanced techniques like SMOTE or ensemble methods."
   ]
  },
  {
   "cell_type": "markdown",
   "id": "9f240400-a14a-41b0-9aad-68ce271df603",
   "metadata": {},
   "source": [
    "Q7. Can you discuss some common issues and challenges that may arise when implementing logistic\n",
    "regression, and how they can be addressed? For example, what can be done if there is multicollinearity\n",
    "among the independent variables in 25 words\n",
    "\n",
    "Answer: Common issues in logistic regression include multicollinearity. It can be addressed by removing correlated variables, using regularization techniques like Ridge regression, or applying dimensionality reduction methods like PCA."
   ]
  },
  {
   "cell_type": "code",
   "execution_count": null,
   "id": "cdab27b8-567e-4f2d-8a20-9b74f0af73fd",
   "metadata": {},
   "outputs": [],
   "source": []
  }
 ],
 "metadata": {
  "kernelspec": {
   "display_name": "Python 3 (ipykernel)",
   "language": "python",
   "name": "python3"
  },
  "language_info": {
   "codemirror_mode": {
    "name": "ipython",
    "version": 3
   },
   "file_extension": ".py",
   "mimetype": "text/x-python",
   "name": "python",
   "nbconvert_exporter": "python",
   "pygments_lexer": "ipython3",
   "version": "3.10.6"
  }
 },
 "nbformat": 4,
 "nbformat_minor": 5
}
